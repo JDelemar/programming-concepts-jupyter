{
 "cells": [
  {
   "cell_type": "markdown",
   "id": "ac6d33db-a340-4010-8ffd-c09bbaabd421",
   "metadata": {},
   "source": [
    "# Maintainable JavaScript with Functional Patterns\n",
    "\n",
    "[Maintainable JavaScript with Functional Patterns|Luis Fernando Alvarez|Reliable Web Summit 2021](https://www.youtube.com/watch?v=96x2KQExrSM)"
   ]
  },
  {
   "cell_type": "markdown",
   "id": "b6faa5bf",
   "metadata": {},
   "source": [
    "## Functions in JS\n",
    "\n",
    "...are first-class citizens, which means they can be assigned to variables and treated equally"
   ]
  },
  {
   "cell_type": "code",
   "execution_count": null,
   "id": "99488eb3",
   "metadata": {
    "execution": {
     "iopub.status.busy": "2023-04-05T13:46:44.332000Z",
     "iopub.status.idle": "2023-04-05T13:46:44.390000Z",
     "shell.execute_reply": "2023-04-05T13:46:44.333000Z"
    }
   },
   "outputs": [
    {
     "name": "stdout",
     "output_type": "stream",
     "text": [
      "4\n"
     ]
    }
   ],
   "source": [
    "const addTwo = x => x + 2;\n",
    "addTwo(2);  // 4"
   ]
  },
  {
   "cell_type": "markdown",
   "id": "d5a64187",
   "metadata": {},
   "source": [
    "...are higher order functions, which means they can be passed as arguments, or returned from other functions"
   ]
  },
  {
   "cell_type": "code",
   "execution_count": null,
   "id": "4c7aaa8c",
   "metadata": {
    "execution": {
     "iopub.status.busy": "2023-04-05T13:46:44.394000Z",
     "iopub.status.idle": "2023-04-05T13:46:44.496000Z",
     "shell.execute_reply": "2023-04-05T13:46:44.394000Z"
    }
   },
   "outputs": [
    {
     "name": "stdout",
     "output_type": "stream",
     "text": [
      "6\n"
     ]
    }
   ],
   "source": [
    "const doTwice = (operation) => {\n",
    "  return (number) => {\n",
    "    return operation(operation(number));\n",
    "  }\n",
    "};\n",
    "\n",
    "doTwice(addTwo)(2) // 6"
   ]
  },
  {
   "cell_type": "markdown",
   "id": "2c5d9085",
   "metadata": {},
   "source": [
    "## Initialize, Iterate, Push Pattern"
   ]
  },
  {
   "cell_type": "code",
   "execution_count": null,
   "id": "f37b59a4",
   "metadata": {
    "execution": {
     "iopub.status.busy": "2023-04-05T13:46:44.535000Z",
     "iopub.status.idle": "2023-04-05T13:46:44.574000Z",
     "shell.execute_reply": "2023-04-05T13:46:44.535000Z"
    }
   },
   "outputs": [
    {
     "name": "stdout",
     "output_type": "stream",
     "text": [
      "words: [ 'Marty', 'Doc', 'Einstein' ]\n",
      "capitalized: [ 'MARTY', 'DOC', 'EINSTEIN' ]\n"
     ]
    }
   ],
   "source": [
    "(() => {\n",
    "  const words = ['Marty', 'Doc', 'Einstein'];\n",
    "  \n",
    "  let capitalized = []; // Initialize\n",
    "\n",
    "  for (let i = 0; i < words.length; i++) { // Interate\n",
    "    capitalized.push(words[i].toUpperCase()); // Push\n",
    "  }\n",
    "\n",
    "  console.log('words:', words);\n",
    "  console.log('capitalized:', capitalized);\n",
    "})();"
   ]
  },
  {
   "cell_type": "markdown",
   "id": "01bff7cd",
   "metadata": {},
   "source": [
    "Using the function approach\n",
    "\n",
    "- Reusable\n",
    "- Easy to test"
   ]
  },
  {
   "cell_type": "code",
   "execution_count": null,
   "id": "35b05273",
   "metadata": {
    "execution": {
     "iopub.status.busy": "2023-04-05T13:46:44.577000Z",
     "iopub.status.idle": "2023-04-05T13:46:44.642000Z",
     "shell.execute_reply": "2023-04-05T13:46:44.577000Z"
    }
   },
   "outputs": [
    {
     "name": "stdout",
     "output_type": "stream",
     "text": [
      "words: [ 'Marty', 'Doc', 'Einstein' ]\n",
      "capitalized: [ 'MARTY', 'DOC', 'EINSTEIN' ]\n"
     ]
    }
   ],
   "source": [
    "(() => {\n",
    "  const words = ['Marty', 'Doc', 'Einstein'];\n",
    "  \n",
    "  const upperCase = word => word.toUpperCase();\n",
    "\n",
    "  const capitalized = words.map(upperCase);\n",
    "\n",
    "  console.log('words:', words);\n",
    "  console.log('capitalized:', capitalized);\n",
    "})();"
   ]
  },
  {
   "cell_type": "markdown",
   "id": "82bdee9f",
   "metadata": {},
   "source": [
    "In this example we could be extracting values to make a CSV"
   ]
  },
  {
   "cell_type": "code",
   "execution_count": null,
   "id": "bfe7b4e4",
   "metadata": {
    "execution": {
     "iopub.status.busy": "2023-04-05T13:46:44.645000Z",
     "iopub.status.idle": "2023-04-05T13:46:44.705000Z",
     "shell.execute_reply": "2023-04-05T13:46:44.645000Z"
    }
   },
   "outputs": [
    {
     "name": "stdout",
     "output_type": "stream",
     "text": [
      "travelerData: { name: 'Marty', age: 17, car: 'Toyota SR5' }\n",
      "flatArray: [ 'Marty', 17, 'Toyota SR5' ]\n"
     ]
    }
   ],
   "source": [
    "(() => {\n",
    "  const travelerData = {\n",
    "    name: 'Marty',\n",
    "    age: 17,\n",
    "    car: 'Toyota SR5'\n",
    "  };\n",
    "  \n",
    "  let flatArray = []; // Initialize\n",
    "  const travlerArray = Object.entries(travelerData);\n",
    "\n",
    "  for (let i = 0; i < travlerArray.length; i++) { // Interate\n",
    "    flatArray.push(travlerArray[i][1]); // Push\n",
    "  }\n",
    "\n",
    "  console.log('travelerData:', travelerData);\n",
    "  console.log('flatArray:', flatArray);\n",
    "})();"
   ]
  },
  {
   "cell_type": "code",
   "execution_count": null,
   "id": "bdcc7c3f",
   "metadata": {
    "execution": {
     "iopub.status.busy": "2023-04-05T13:46:44.708000Z",
     "iopub.status.idle": "2023-04-05T13:46:44.743000Z",
     "shell.execute_reply": "2023-04-05T13:46:44.708000Z"
    }
   },
   "outputs": [
    {
     "name": "stdout",
     "output_type": "stream",
     "text": [
      "travelerData: { name: 'Marty', age: 17, car: 'Toyota SR5' }\n",
      "flatArray: [ 'Marty', 17, 'Toyota SR5' ]\n"
     ]
    }
   ],
   "source": [
    "(() => {\n",
    "  const travelerData = {\n",
    "    name: 'Marty',\n",
    "    age: 17,\n",
    "    car: 'Toyota SR5'\n",
    "  };\n",
    "  \n",
    "  const travlerArray = Object.entries(travelerData);\n",
    "  const extractValue = ([key, value]) => value;\n",
    "  const flatArray = travlerArray.map(extractValue);\n",
    "\n",
    "  console.log('travelerData:', travelerData);\n",
    "  console.log('flatArray:', flatArray);\n",
    "})();"
   ]
  },
  {
   "cell_type": "markdown",
   "id": "25b493af",
   "metadata": {},
   "source": [
    "### Initialize, Iterate, Conditional Push Pattern"
   ]
  },
  {
   "cell_type": "code",
   "execution_count": null,
   "id": "76256120",
   "metadata": {
    "execution": {
     "iopub.status.busy": "2023-04-05T13:46:44.759000Z",
     "iopub.status.idle": "2023-04-05T13:46:44.797000Z",
     "shell.execute_reply": "2023-04-05T13:46:44.759000Z"
    }
   },
   "outputs": [
    {
     "name": "stdout",
     "output_type": "stream",
     "text": [
      "words: [ 'Marty', 'Doc', 'Einstein' ]\n",
      "longWords: [ 'Marty', 'Einstein' ]\n"
     ]
    }
   ],
   "source": [
    "(() => {\n",
    "  const words = ['Marty', 'Doc', 'Einstein'];\n",
    "  \n",
    "  let longWords = []; // Initialize\n",
    "\n",
    "  for (let i = 0; i < words.length; i++) { // Interate\n",
    "    if (words[i].length >= 5) { // Conditional Push\n",
    "      longWords.push(words[i]);\n",
    "    }\n",
    "  }\n",
    "\n",
    "  console.log('words:', words);\n",
    "  console.log('longWords:', longWords);\n",
    "})();"
   ]
  },
  {
   "cell_type": "code",
   "execution_count": null,
   "id": "3ddc48fb",
   "metadata": {
    "execution": {
     "iopub.status.busy": "2023-04-05T13:46:44.799000Z",
     "iopub.status.idle": "2023-04-05T13:46:44.915000Z",
     "shell.execute_reply": "2023-04-05T13:46:44.800000Z"
    }
   },
   "outputs": [
    {
     "name": "stdout",
     "output_type": "stream",
     "text": [
      "words: [ 'Marty', 'Doc', 'Einstein' ]\n",
      "longWords: [ 'Marty', 'Einstein' ]\n"
     ]
    }
   ],
   "source": [
    "(() => {\n",
    "  const words = ['Marty', 'Doc', 'Einstein'];\n",
    "  \n",
    "  const largerThan = num => word => word.length >= num;\n",
    "  // Curried version of (num, word) => word.length >= num;\n",
    "\n",
    "  const largerThanFive = largerThan(5);\n",
    "  const longWords = words.filter(largerThanFive);\n",
    "\n",
    "  console.log('words:', words);\n",
    "  console.log('longWords:', longWords);\n",
    "})();"
   ]
  },
  {
   "cell_type": "markdown",
   "id": "e984860a",
   "metadata": {},
   "source": [
    "## Initialize, Iterate, Accumulate"
   ]
  },
  {
   "cell_type": "code",
   "execution_count": null,
   "id": "973a0bf0",
   "metadata": {
    "execution": {
     "iopub.status.busy": "2023-04-05T13:46:44.917000Z",
     "iopub.status.idle": "2023-04-05T13:46:44.940000Z",
     "shell.execute_reply": "2023-04-05T13:46:44.917000Z"
    }
   },
   "outputs": [
    {
     "name": "stdout",
     "output_type": "stream",
     "text": [
      "words: [ 'de', 'lorean' ]\n",
      "phrase: Marty and his DeLorean\n"
     ]
    }
   ],
   "source": [
    "(() => {\n",
    "  const words = ['de', 'lorean'];\n",
    "\n",
    "  let camelCase = 'Marty and his '; // Initialize\n",
    "\n",
    "  for (let i = 0; i < words.length; i++) { // Iterate\n",
    "    const head = words[i].charAt(0).toUpperCase();\n",
    "    const tail = words[i].slice(1);\n",
    "    camelCase += head + tail; // Accumulate\n",
    "  }\n",
    "\n",
    "  console.log('words:', words);\n",
    "  console.log('phrase:', camelCase);\n",
    "})();"
   ]
  },
  {
   "cell_type": "code",
   "execution_count": null,
   "id": "147f7b67",
   "metadata": {
    "execution": {
     "iopub.status.busy": "2023-04-05T13:46:44.942000Z",
     "iopub.status.idle": "2023-04-05T13:46:44.973000Z",
     "shell.execute_reply": "2023-04-05T13:46:44.942000Z"
    }
   },
   "outputs": [
    {
     "name": "stdout",
     "output_type": "stream",
     "text": [
      "words: [ 'de', 'lorean' ]\n",
      "phrase: Marty and his DeLorean\n"
     ]
    }
   ],
   "source": [
    "(() => {\n",
    "  const words = ['de', 'lorean'];\n",
    "\n",
    "  const camelWord = word => `${word.charAt(0).toUpperCase()}${word.slice(1)}`;\n",
    "  const camelSentence = (sentence, word) => `${sentence}${camelWord(word)}`;\n",
    "  const phrase = words.reduce(camelSentence, 'Marty and his ');\n",
    "\n",
    "  console.log('words:', words);\n",
    "  console.log('phrase:', phrase);\n",
    "})();"
   ]
  },
  {
   "cell_type": "code",
   "execution_count": null,
   "id": "74a641ee",
   "metadata": {
    "execution": {
     "iopub.status.busy": "2023-04-05T13:46:44.998000Z",
     "iopub.status.idle": "2023-04-05T13:46:45.060000Z",
     "shell.execute_reply": "2023-04-05T13:46:44.998000Z"
    }
   },
   "outputs": [
    {
     "name": "stdout",
     "output_type": "stream",
     "text": [
      "words: [\n",
      "  [ 'buford', 'The guy from 1885' ],\n",
      "  [ 'biff', 'The guy from 1955, 1985 and 2015' ],\n",
      "  [ 'griff', 'The guy from 2015' ]\n",
      "]\n",
      "object: {\n",
      "  buford: 'The guy from 1885',\n",
      "  biff: 'The guy from 1955, 1985 and 2015',\n",
      "  griff: 'The guy from 2015'\n",
      "}\n"
     ]
    }
   ],
   "source": [
    "(() => {\n",
    "  const evilGuys = [\n",
    "    ['buford', 'The guy from 1885'],\n",
    "    ['biff', 'The guy from 1955, 1985 and 2015'],\n",
    "    ['griff', 'The guy from 2015']\n",
    "  ];\n",
    "\n",
    "  let evilObject = {}; // Initialize\n",
    "\n",
    "  for (let i = 0; i < evilGuys.length; i++) { // Iterate\n",
    "    const key = evilGuys[i][0];\n",
    "    const value = evilGuys[i][1];\n",
    "    evilObject[key] = value; // Accumulate\n",
    "  }\n",
    "\n",
    "  console.log('words:', evilGuys);\n",
    "  console.log('object:', evilObject);\n",
    "})();"
   ]
  },
  {
   "cell_type": "code",
   "execution_count": null,
   "id": "0b05a57f",
   "metadata": {
    "execution": {
     "iopub.status.busy": "2023-04-05T13:46:45.067000Z",
     "iopub.status.idle": "2023-04-05T13:46:45.083000Z",
     "shell.execute_reply": "2023-04-05T13:46:45.067000Z"
    }
   },
   "outputs": [
    {
     "name": "stdout",
     "output_type": "stream",
     "text": [
      "words: [\n",
      "  [ 'buford', 'The guy from 1885' ],\n",
      "  [ 'biff', 'The guy from 1955, 1985 and 2015' ],\n",
      "  [ 'griff', 'The guy from 2015' ]\n",
      "]\n",
      "object: {\n",
      "  buford: 'The guy from 1885',\n",
      "  biff: 'The guy from 1955, 1985 and 2015',\n",
      "  griff: 'The guy from 2015'\n",
      "}\n"
     ]
    }
   ],
   "source": [
    "(() => {\n",
    "  const evilGuys = [\n",
    "    ['buford', 'The guy from 1885'],\n",
    "    ['biff', 'The guy from 1955, 1985 and 2015'],\n",
    "    ['griff', 'The guy from 2015']\n",
    "  ];\n",
    "\n",
    "  const reducer = (acc, [key, value]) => ({ ...acc, [key]: value });\n",
    "  const evilObject = evilGuys.reduce(reducer, {});\n",
    "\n",
    "  console.log('words:', evilGuys);\n",
    "  console.log('object:', evilObject);\n",
    "})();"
   ]
  },
  {
   "cell_type": "markdown",
   "id": "54447416",
   "metadata": {},
   "source": [
    "## Function Composition"
   ]
  },
  {
   "cell_type": "code",
   "execution_count": null,
   "id": "1a524642",
   "metadata": {
    "execution": {
     "iopub.status.busy": "2023-04-05T13:46:45.085000Z",
     "iopub.status.idle": "2023-04-05T13:46:45.146000Z",
     "shell.execute_reply": "2023-04-05T13:46:45.085000Z"
    }
   },
   "outputs": [
    {
     "name": "stdout",
     "output_type": "stream",
     "text": [
      "singleValue: 16\n",
      "multipleValues: [ 16, 36, 64 ]\n"
     ]
    }
   ],
   "source": [
    "(() => {\n",
    "  const addOne = x => x + 1;\n",
    "  const double = x => x * 2;\n",
    "  const square = x => x * x;\n",
    "\n",
    "  // With a single value\n",
    "  const calculateValue = square(double(addOne(1))); // 16\n",
    "\n",
    "  // With arrays\n",
    "  const numbers = [1, 2, 3];\n",
    "  const calculateValues = numbers.map(addOne).map(double).map(square);\n",
    "  // Output: [16, 36, 64]\n",
    "\n",
    "  console.log('singleValue:', calculateValue);\n",
    "  console.log('multipleValues:', calculateValues);\n",
    "})();"
   ]
  },
  {
   "cell_type": "code",
   "execution_count": null,
   "id": "b7c33981",
   "metadata": {
    "execution": {
     "iopub.status.busy": "2023-04-05T13:46:45.148000Z",
     "iopub.status.idle": "2023-04-05T13:46:45.278000Z",
     "shell.execute_reply": "2023-04-05T13:46:45.148000Z"
    }
   },
   "outputs": [
    {
     "name": "stdout",
     "output_type": "stream",
     "text": [
      "singleValue: 16\n",
      "multipleValues: [ 16, 36, 64 ]\n"
     ]
    }
   ],
   "source": [
    "(() => {\n",
    "  function compose(...functions) {\n",
    "    return (args) => {\n",
    "      return functions.reduce(\n",
    "        (acc, fn) => fn(acc),\n",
    "        args\n",
    "      );\n",
    "    };\n",
    "  }\n",
    "\n",
    "  const addOne = x => x + 1;\n",
    "  const double = x => x * 2;\n",
    "  const square = x => x * x;\n",
    "\n",
    "  const calculate = compose(addOne, double, square);\n",
    "  \n",
    "  const calculateValue = calculate(1);\n",
    "  const calculateValues = [1, 2, 3].map(calculate);\n",
    "\n",
    "  console.log('singleValue:', calculateValue);\n",
    "  console.log('multipleValues:', calculateValues);\n",
    "})();"
   ]
  },
  {
   "cell_type": "markdown",
   "id": "bea6cdaa",
   "metadata": {},
   "source": [
    "## Switch into Function Map"
   ]
  },
  {
   "cell_type": "code",
   "execution_count": null,
   "id": "24df5cf1",
   "metadata": {
    "execution": {
     "iopub.status.busy": "2023-04-05T13:46:45.318000Z",
     "iopub.status.idle": "2023-04-05T13:46:45.416000Z",
     "shell.execute_reply": "2023-04-05T13:46:45.318000Z"
    }
   },
   "outputs": [
    {
     "name": "stdout",
     "output_type": "stream",
     "text": [
      "sayHi: Hi Marty\n",
      "sayBye: Bye Marty\n",
      "sayMorning: Good morning, Marty\n",
      "sayAfternoon: Good afternoon, Marty\n",
      "sayEvening: Good evening, Marty\n",
      "sayUnknown: What are you doing Marty?\n"
     ]
    }
   ],
   "source": [
    "(() => {\n",
    "  function greet(action, name) {\n",
    "    switch (action) {\n",
    "      case 'sayHi':\n",
    "        return hi(name);    \n",
    "      case 'sayBye':\n",
    "        return bye(name);    \n",
    "      case 'sayMorning':\n",
    "        return morning(name);    \n",
    "      case 'sayAfternoon':\n",
    "        return afternoon(name);    \n",
    "      case 'sayEvening':\n",
    "        return evening(name);    \n",
    "      default:\n",
    "        return anything(name);\n",
    "    }\n",
    "  }\n",
    "\n",
    "  const hi = (name) => `Hi ${name}`;\n",
    "  const bye = (name) => `Bye ${name}`;\n",
    "  const morning = (name) => `Good morning, ${name}`;\n",
    "  const afternoon = (name) => `Good afternoon, ${name}`;\n",
    "  const evening = (name) => `Good evening, ${name}`;\n",
    "  const anything = (name) => `What are you doing ${name}?`;\n",
    "\n",
    "  console.log('sayHi:', greet('sayHi', 'Marty'));\n",
    "  console.log('sayBye:', greet('sayBye', 'Marty'));\n",
    "  console.log('sayMorning:', greet('sayMorning', 'Marty'));\n",
    "  console.log('sayAfternoon:', greet('sayAfternoon', 'Marty'));\n",
    "  console.log('sayEvening:', greet('sayEvening', 'Marty'));\n",
    "  console.log('sayUnknown:', greet('sayUnknown', 'Marty'));\n",
    "})()"
   ]
  },
  {
   "cell_type": "markdown",
   "id": "2435eaa2",
   "metadata": {},
   "source": [
    "New functions added do not have to modify the greet function"
   ]
  },
  {
   "cell_type": "code",
   "execution_count": null,
   "id": "cbf2584a",
   "metadata": {
    "execution": {
     "iopub.status.busy": "2023-04-05T13:46:45.418000Z",
     "iopub.status.idle": "2023-04-05T13:46:45.530000Z",
     "shell.execute_reply": "2023-04-05T13:46:45.419000Z"
    }
   },
   "outputs": [
    {
     "name": "stdout",
     "output_type": "stream",
     "text": [
      "sayHi: Hi Marty\n",
      "sayBye: Bye Marty\n",
      "sayMorning: Good morning, Marty\n",
      "sayAfternoon: Good afternoon, Marty\n",
      "sayEvening: Good evening, Marty\n",
      "sayUnknown: What are you doing Marty?\n"
     ]
    }
   ],
   "source": [
    "(() => {\n",
    "  const hi = (name) => `Hi ${name}`;\n",
    "  const bye = (name) => `Bye ${name}`;\n",
    "  const morning = (name) => `Good morning, ${name}`;\n",
    "  const afternoon = (name) => `Good afternoon, ${name}`;\n",
    "  const evening = (name) => `Good evening, ${name}`;\n",
    "  const anything = (name) => `What are you doing ${name}?`;\n",
    "\n",
    "  const greetingMap = {\n",
    "    'sayHi': hi,\n",
    "    'sayBye': bye,\n",
    "    'sayMorning': morning,\n",
    "    'sayAfternoon': afternoon,\n",
    "    'sayEvening': evening,\n",
    "  };\n",
    "\n",
    "  function greet(action, name) {\n",
    "    return greetingMap[action]\n",
    "      ? greetingMap[action](name)\n",
    "      : anything(name);\n",
    "  }\n",
    "\n",
    "  console.log('sayHi:', greet('sayHi', 'Marty'));\n",
    "  console.log('sayBye:', greet('sayBye', 'Marty'));\n",
    "  console.log('sayMorning:', greet('sayMorning', 'Marty'));\n",
    "  console.log('sayAfternoon:', greet('sayAfternoon', 'Marty'));\n",
    "  console.log('sayEvening:', greet('sayEvening', 'Marty'));\n",
    "  console.log('sayUnknown:', greet('sayUnknown', 'Marty'));\n",
    "})()"
   ]
  }
 ],
 "metadata": {
  "kernelspec": {
   "display_name": "JavaScript",
   "language": "javascript",
   "name": "jslab"
  },
  "language_info": {
   "file_extension": ".js",
   "mimetype": "text/javascript",
   "name": "javascript",
   "version": ""
  }
 },
 "nbformat": 4,
 "nbformat_minor": 5
}
