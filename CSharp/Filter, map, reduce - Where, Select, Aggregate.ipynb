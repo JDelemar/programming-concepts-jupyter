{
 "cells": [
  {
   "cell_type": "markdown",
   "metadata": {},
   "source": [
    "# Map, Reduce, Filter with CSharp"
   ]
  },
  {
   "cell_type": "code",
   "execution_count": 1,
   "metadata": {
    "execution": {
     "iopub.execute_input": "2023-04-05T13:46:36.080967Z",
     "iopub.status.busy": "2023-04-05T13:46:36.073902Z",
     "iopub.status.idle": "2023-04-05T13:46:37.297209Z",
     "shell.execute_reply": "2023-04-05T13:46:37.292934Z"
    },
    "vscode": {
     "languageId": "csharp"
    }
   },
   "outputs": [
    {
     "data": {
      "text/html": [
       "\r\n",
       "<div>\r\n",
       "    <div id='dotnet-interactive-this-cell-32.Microsoft.DotNet.Interactive.Http.HttpPort' style='display: none'>\r\n",
       "        The below script needs to be able to find the current output cell; this is an easy method to get it.\r\n",
       "    </div>\r\n",
       "    <script type='text/javascript'>\r\n",
       "async function probeAddresses(probingAddresses) {\r\n",
       "    function timeout(ms, promise) {\r\n",
       "        return new Promise(function (resolve, reject) {\r\n",
       "            setTimeout(function () {\r\n",
       "                reject(new Error('timeout'))\r\n",
       "            }, ms)\r\n",
       "            promise.then(resolve, reject)\r\n",
       "        })\r\n",
       "    }\r\n",
       "\r\n",
       "    if (Array.isArray(probingAddresses)) {\r\n",
       "        for (let i = 0; i < probingAddresses.length; i++) {\r\n",
       "\r\n",
       "            let rootUrl = probingAddresses[i];\r\n",
       "\r\n",
       "            if (!rootUrl.endsWith('/')) {\r\n",
       "                rootUrl = `${rootUrl}/`;\r\n",
       "            }\r\n",
       "\r\n",
       "            try {\r\n",
       "                let response = await timeout(1000, fetch(`${rootUrl}discovery`, {\r\n",
       "                    method: 'POST',\r\n",
       "                    cache: 'no-cache',\r\n",
       "                    mode: 'cors',\r\n",
       "                    timeout: 1000,\r\n",
       "                    headers: {\r\n",
       "                        'Content-Type': 'text/plain'\r\n",
       "                    },\r\n",
       "                    body: probingAddresses[i]\r\n",
       "                }));\r\n",
       "\r\n",
       "                if (response.status == 200) {\r\n",
       "                    return rootUrl;\r\n",
       "                }\r\n",
       "            }\r\n",
       "            catch (e) { }\r\n",
       "        }\r\n",
       "    }\r\n",
       "}\r\n",
       "\r\n",
       "function loadDotnetInteractiveApi() {\r\n",
       "    probeAddresses([\"http://172.17.0.2:1000/\", \"http://127.0.0.1:1000/\"])\r\n",
       "        .then((root) => {\r\n",
       "        // use probing to find host url and api resources\r\n",
       "        // load interactive helpers and language services\r\n",
       "        let dotnetInteractiveRequire = require.config({\r\n",
       "        context: '32.Microsoft.DotNet.Interactive.Http.HttpPort',\r\n",
       "                paths:\r\n",
       "            {\r\n",
       "                'dotnet-interactive': `${root}resources`\r\n",
       "                }\r\n",
       "        }) || require;\r\n",
       "\r\n",
       "            window.dotnetInteractiveRequire = dotnetInteractiveRequire;\r\n",
       "\r\n",
       "            window.configureRequireFromExtension = function(extensionName, extensionCacheBuster) {\r\n",
       "                let paths = {};\r\n",
       "                paths[extensionName] = `${root}extensions/${extensionName}/resources/`;\r\n",
       "                \r\n",
       "                let internalRequire = require.config({\r\n",
       "                    context: extensionCacheBuster,\r\n",
       "                    paths: paths,\r\n",
       "                    urlArgs: `cacheBuster=${extensionCacheBuster}`\r\n",
       "                    }) || require;\r\n",
       "\r\n",
       "                return internalRequire\r\n",
       "            };\r\n",
       "        \r\n",
       "            dotnetInteractiveRequire([\r\n",
       "                    'dotnet-interactive/dotnet-interactive'\r\n",
       "                ],\r\n",
       "                function (dotnet) {\r\n",
       "                    dotnet.init(window);\r\n",
       "                },\r\n",
       "                function (error) {\r\n",
       "                    console.log(error);\r\n",
       "                }\r\n",
       "            );\r\n",
       "        })\r\n",
       "        .catch(error => {console.log(error);});\r\n",
       "    }\r\n",
       "\r\n",
       "// ensure `require` is available globally\r\n",
       "if ((typeof(require) !==  typeof(Function)) || (typeof(require.config) !== typeof(Function))) {\r\n",
       "    let require_script = document.createElement('script');\r\n",
       "    require_script.setAttribute('src', 'https://cdnjs.cloudflare.com/ajax/libs/require.js/2.3.6/require.min.js');\r\n",
       "    require_script.setAttribute('type', 'text/javascript');\r\n",
       "    \r\n",
       "    \r\n",
       "    require_script.onload = function() {\r\n",
       "        loadDotnetInteractiveApi();\r\n",
       "    };\r\n",
       "\r\n",
       "    document.getElementsByTagName('head')[0].appendChild(require_script);\r\n",
       "}\r\n",
       "else {\r\n",
       "    loadDotnetInteractiveApi();\r\n",
       "}\r\n",
       "\r\n",
       "    </script>\r\n",
       "</div>"
      ]
     },
     "metadata": {},
     "output_type": "display_data"
    }
   ],
   "source": [
    "// #r \"nuget:NewtonSoft.Json\"\n",
    "// using NewtonSoft.Json; // The type or namespace name 'NewtonSoft' could not be found (are you missing a using directive or an assembly reference?\n",
    "#r \"System.Collections.Immutable.dll\"\n",
    "using System.Collections.Immutable;"
   ]
  },
  {
   "cell_type": "markdown",
   "metadata": {},
   "source": [
    "## Map"
   ]
  },
  {
   "cell_type": "code",
   "execution_count": 2,
   "metadata": {
    "execution": {
     "iopub.execute_input": "2023-04-05T13:46:37.299912Z",
     "iopub.status.busy": "2023-04-05T13:46:37.299748Z",
     "iopub.status.idle": "2023-04-05T13:46:38.213962Z",
     "shell.execute_reply": "2023-04-05T13:46:38.213819Z"
    },
    "vscode": {
     "languageId": "csharp"
    }
   },
   "outputs": [
    {
     "name": "stdout",
     "output_type": "stream",
     "text": [
      "words:\n"
     ]
    },
    {
     "data": {
      "text/html": [
       "<table><thead><tr><th><i>index</i></th><th>value</th></tr></thead><tbody><tr><td>0</td><td>Marty</td></tr><tr><td>1</td><td>Doc</td></tr><tr><td>2</td><td>Einstein</td></tr></tbody></table>"
      ]
     },
     "metadata": {},
     "output_type": "display_data"
    },
    {
     "name": "stdout",
     "output_type": "stream",
     "text": [
      "capitalized:\n"
     ]
    },
    {
     "data": {
      "text/html": [
       "<table><thead><tr><th><i>index</i></th><th>value</th></tr></thead><tbody><tr><td>0</td><td>MARTY</td></tr><tr><td>1</td><td>DOC</td></tr><tr><td>2</td><td>EINSTEIN</td></tr></tbody></table>"
      ]
     },
     "metadata": {},
     "output_type": "display_data"
    }
   ],
   "source": [
    "var words = ImmutableList.Create(\"Marty\", \"Doc\", \"Einstein\");\n",
    "\n",
    "var UpperCase = (string word) => word.ToUpper();\n",
    "var capitalized = words.Select(x => UpperCase(x)).ToList();\n",
    "\n",
    "Console.WriteLine(\"words:\");\n",
    "words.Display();\n",
    "Console.WriteLine(\"capitalized:\");\n",
    "capitalized.Display();\n"
   ]
  },
  {
   "cell_type": "markdown",
   "metadata": {},
   "source": [
    "## Filter"
   ]
  },
  {
   "cell_type": "code",
   "execution_count": 3,
   "metadata": {
    "execution": {
     "iopub.execute_input": "2023-04-05T13:46:38.216840Z",
     "iopub.status.busy": "2023-04-05T13:46:38.216670Z",
     "iopub.status.idle": "2023-04-05T13:46:38.254301Z",
     "shell.execute_reply": "2023-04-05T13:46:38.254130Z"
    },
    "vscode": {
     "languageId": "csharp"
    }
   },
   "outputs": [
    {
     "name": "stdout",
     "output_type": "stream",
     "text": [
      "words:\n"
     ]
    },
    {
     "data": {
      "text/html": [
       "<table><thead><tr><th><i>index</i></th><th>value</th></tr></thead><tbody><tr><td>0</td><td>Marty</td></tr><tr><td>1</td><td>Doc</td></tr><tr><td>2</td><td>Einstein</td></tr></tbody></table>"
      ]
     },
     "metadata": {},
     "output_type": "display_data"
    },
    {
     "name": "stdout",
     "output_type": "stream",
     "text": [
      "largerThanFive:\n"
     ]
    },
    {
     "data": {
      "text/html": [
       "<table><thead><tr><th><i>index</i></th><th>value</th></tr></thead><tbody><tr><td>0</td><td>Marty</td></tr><tr><td>1</td><td>Einstein</td></tr></tbody></table>"
      ]
     },
     "metadata": {},
     "output_type": "display_data"
    }
   ],
   "source": [
    "var words = ImmutableList.Create(\"Marty\", \"Doc\", \"Einstein\");\n",
    "\n",
    "var largerThanFive = words.Where(x => x.Length >= 5).ToList();\n",
    "\n",
    "Console.WriteLine(\"words:\");\n",
    "words.Display();\n",
    "Console.WriteLine(\"largerThanFive:\");\n",
    "largerThanFive.Display();\n"
   ]
  },
  {
   "cell_type": "markdown",
   "metadata": {},
   "source": [
    "## Reduce"
   ]
  },
  {
   "cell_type": "code",
   "execution_count": 4,
   "metadata": {
    "execution": {
     "iopub.execute_input": "2023-04-05T13:46:38.257271Z",
     "iopub.status.busy": "2023-04-05T13:46:38.257079Z",
     "iopub.status.idle": "2023-04-05T13:46:38.372975Z",
     "shell.execute_reply": "2023-04-05T13:46:38.372824Z"
    },
    "vscode": {
     "languageId": "csharp"
    }
   },
   "outputs": [
    {
     "name": "stdout",
     "output_type": "stream",
     "text": [
      "phrase: Marty and his DeLorean\n"
     ]
    }
   ],
   "source": [
    "var words = ImmutableList.Create(\"de\", \"lorean\");\n",
    "\n",
    "var CamelWord = (string word) => $\"{word.First().ToString().ToUpper()}{word.Substring(1)}\";\n",
    "var phrase = words.Aggregate(new StringBuilder(\"Marty and his \"),\n",
    "  (accumulator, value) => {\n",
    "    // Console.WriteLine($\"accumulator: {accumulator}, value: {value}\");\n",
    "    accumulator.Append(CamelWord(value));\n",
    "    return accumulator;\n",
    "  });\n",
    "\n",
    "Console.WriteLine($\"phrase: {phrase}\");\n"
   ]
  },
  {
   "cell_type": "code",
   "execution_count": 5,
   "metadata": {
    "execution": {
     "iopub.execute_input": "2023-04-05T13:46:38.375819Z",
     "iopub.status.busy": "2023-04-05T13:46:38.375615Z",
     "iopub.status.idle": "2023-04-05T13:46:38.397807Z",
     "shell.execute_reply": "2023-04-05T13:46:38.397531Z"
    },
    "vscode": {
     "languageId": "csharp"
    }
   },
   "outputs": [
    {
     "name": "stdout",
     "output_type": "stream",
     "text": [
      "phrase: Marty and his DeLorean\n"
     ]
    }
   ],
   "source": [
    "var words = ImmutableList.Create(\"de\", \"lorean\");\n",
    "\n",
    "var CamelWord = (string word) => $\"{word.First().ToString().ToUpper()}{word.Substring(1)}\";\n",
    "var phrase = words.Aggregate(\n",
    "  seed: \"Marty and his \",\n",
    "  func: (accumulator, value) => {\n",
    "    // Console.WriteLine($\"accumulator: {accumulator}, value: {value}\");\n",
    "    accumulator += CamelWord(value);\n",
    "    return accumulator;\n",
    "  });\n",
    "\n",
    "Console.WriteLine($\"phrase: {phrase}\");\n"
   ]
  },
  {
   "cell_type": "code",
   "execution_count": 6,
   "metadata": {
    "execution": {
     "iopub.execute_input": "2023-04-05T13:46:38.400168Z",
     "iopub.status.busy": "2023-04-05T13:46:38.400006Z",
     "iopub.status.idle": "2023-04-05T13:46:38.414023Z",
     "shell.execute_reply": "2023-04-05T13:46:38.413873Z"
    },
    "vscode": {
     "languageId": "csharp"
    }
   },
   "outputs": [
    {
     "name": "stdout",
     "output_type": "stream",
     "text": [
      "commaDelimited: one, two, three\n"
     ]
    }
   ],
   "source": [
    "var words = ImmutableList.Create(\"one\", \"two\", \"three\");\n",
    "\n",
    "var commaDelimited = words.Aggregate((a, b) => $\"{a}, {b}\");\n",
    "\n",
    "Console.WriteLine($\"commaDelimited: {commaDelimited}\");\n"
   ]
  }
 ],
 "metadata": {
  "kernelspec": {
   "display_name": ".NET (C#)",
   "language": "C#",
   "name": ".net-csharp"
  },
  "language_info": {
   "file_extension": ".cs",
   "mimetype": "text/x-csharp",
   "name": "C#",
   "pygments_lexer": "csharp",
   "version": "9.0"
  }
 },
 "nbformat": 4,
 "nbformat_minor": 2
}
