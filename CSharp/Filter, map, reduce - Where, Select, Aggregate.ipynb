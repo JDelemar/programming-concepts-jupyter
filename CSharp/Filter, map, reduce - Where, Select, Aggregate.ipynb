{
 "cells": [
  {
   "cell_type": "markdown",
   "metadata": {},
   "source": [
    "# Map, Reduce, Filter with CSharp"
   ]
  },
  {
   "cell_type": "code",
   "execution_count": null,
   "metadata": {
    "vscode": {
     "languageId": "csharp"
    }
   },
   "outputs": [],
   "source": [
    "// #r \"nuget:NewtonSoft.Json\"\n",
    "// using NewtonSoft.Json; // The type or namespace name 'NewtonSoft' could not be found (are you missing a using directive or an assembly reference?\n",
    "#r \"System.Collections.Immutable.dll\"\n",
    "using System.Collections.Immutable;"
   ]
  },
  {
   "cell_type": "markdown",
   "metadata": {},
   "source": [
    "## Map"
   ]
  },
  {
   "cell_type": "code",
   "execution_count": null,
   "metadata": {
    "vscode": {
     "languageId": "csharp"
    }
   },
   "outputs": [],
   "source": [
    "var words = ImmutableList.Create(\"Marty\", \"Doc\", \"Einstein\");\n",
    "\n",
    "var UpperCase = (string word) => word.ToUpper();\n",
    "var capitalized = words.Select(x => UpperCase(x)).ToList();\n",
    "\n",
    "Console.WriteLine(\"words:\");\n",
    "words.Display();\n",
    "Console.WriteLine(\"capitalized:\");\n",
    "capitalized.Display();\n"
   ]
  },
  {
   "cell_type": "markdown",
   "metadata": {},
   "source": [
    "## Filter"
   ]
  },
  {
   "cell_type": "code",
   "execution_count": null,
   "metadata": {
    "vscode": {
     "languageId": "csharp"
    }
   },
   "outputs": [],
   "source": [
    "var words = ImmutableList.Create(\"Marty\", \"Doc\", \"Einstein\");\n",
    "\n",
    "var largerThanFive = words.Where(x => x.Length >= 5).ToList();\n",
    "\n",
    "Console.WriteLine(\"words:\");\n",
    "words.Display();\n",
    "Console.WriteLine(\"largerThanFive:\");\n",
    "largerThanFive.Display();\n"
   ]
  },
  {
   "cell_type": "markdown",
   "metadata": {},
   "source": [
    "## Reduce"
   ]
  },
  {
   "cell_type": "code",
   "execution_count": null,
   "metadata": {
    "vscode": {
     "languageId": "csharp"
    }
   },
   "outputs": [],
   "source": [
    "var words = ImmutableList.Create(\"de\", \"lorean\");\n",
    "\n",
    "var CamelWord = (string word) => $\"{word.First().ToString().ToUpper()}{word.Substring(1)}\";\n",
    "var phrase = words.Aggregate(new StringBuilder(\"Marty and his \"),\n",
    "  (accumulator, value) => {\n",
    "    // Console.WriteLine($\"accumulator: {accumulator}, value: {value}\");\n",
    "    accumulator.Append(CamelWord(value));\n",
    "    return accumulator;\n",
    "  });\n",
    "\n",
    "Console.WriteLine($\"phrase: {phrase}\");\n"
   ]
  },
  {
   "cell_type": "code",
   "execution_count": null,
   "metadata": {
    "vscode": {
     "languageId": "csharp"
    }
   },
   "outputs": [],
   "source": [
    "var words = ImmutableList.Create(\"de\", \"lorean\");\n",
    "\n",
    "var CamelWord = (string word) => $\"{word.First().ToString().ToUpper()}{word.Substring(1)}\";\n",
    "var phrase = words.Aggregate(\n",
    "  seed: \"Marty and his \",\n",
    "  func: (accumulator, value) => {\n",
    "    // Console.WriteLine($\"accumulator: {accumulator}, value: {value}\");\n",
    "    accumulator += CamelWord(value);\n",
    "    return accumulator;\n",
    "  });\n",
    "\n",
    "Console.WriteLine($\"phrase: {phrase}\");\n"
   ]
  },
  {
   "cell_type": "code",
   "execution_count": null,
   "metadata": {
    "vscode": {
     "languageId": "csharp"
    }
   },
   "outputs": [],
   "source": [
    "var words = ImmutableList.Create(\"one\", \"two\", \"three\");\n",
    "\n",
    "var commaDelimited = words.Aggregate((a, b) => $\"{a}, {b}\");\n",
    "\n",
    "Console.WriteLine($\"commaDelimited: {commaDelimited}\");\n"
   ]
  }
 ],
 "metadata": {
  "kernelspec": {
   "display_name": ".NET (C#)",
   "language": "C#",
   "name": ".net-csharp"
  },
  "language_info": {
   "file_extension": ".cs",
   "mimetype": "text/x-csharp",
   "name": "C#",
   "pygments_lexer": "csharp",
   "version": "9.0"
  },
  "orig_nbformat": 4
 },
 "nbformat": 4,
 "nbformat_minor": 2
}
